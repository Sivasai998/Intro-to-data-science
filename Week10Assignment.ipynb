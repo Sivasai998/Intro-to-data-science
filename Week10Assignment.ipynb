{
 "cells": [
  {
   "cell_type": "markdown",
   "metadata": {},
   "source": [
    "# Week 10 - assignment - parse ipynb files"
   ]
  },
  {
   "cell_type": "markdown",
   "metadata": {},
   "source": [
    "Submit a notebook that finds all other notebooks used for Data 601 on your computer and generates a list of the modules used​.\n",
    "\n",
    "Look for .ipynb files using the glob module in Python\n",
    "Your analysis should include at least eight .ipynb files. \n",
    "Files used for code other than assignments (eg projects, work from other courses) is acceptable to include\n",
    "1. Create functions that parse the file and find modules.\n",
    "2. Use a loop to call the functions on each file.\n",
    "3. Look for code cells (ignore Markdown and raw cells)\n",
    "4. Look for lines of code that start with either \"from\" or \"import\"​\n",
    "5. Look for the keywords only in code input (rather than including cell output content)\n",
    "\n",
    "Result is a list of unique modules used. The list doesn't need to include specific functions. For example, in \n",
    "\n",
    "from math import pi\n",
    "\n",
    "The relevant module is math\n",
    "\n",
    "\n",
    "\n",
    "Submit your python notebook as an .ipynb file containing the code for the implementation and the results."
   ]
  },
  {
   "cell_type": "markdown",
   "metadata": {},
   "source": [
    "## Code : "
   ]
  },
  {
   "cell_type": "markdown",
   "metadata": {},
   "source": [
    "Every ipynb file is opened and read. The read line are then checked against a regular expression. Results are stored in a list by removing duplicates."
   ]
  },
  {
   "cell_type": "code",
   "execution_count": 1,
   "metadata": {},
   "outputs": [],
   "source": [
    "# Importing glob to get all ipynb files\n",
    "# Importing regular expressions to match the file lines with certain expressions.\n",
    "import glob\n",
    "import re"
   ]
  },
  {
   "cell_type": "markdown",
   "metadata": {},
   "source": [
    "Glob returns the list of file names by the type specified. Here it returns teh list of file names of ipynb type and the list is tored in listOfPythonFiles variable."
   ]
  },
  {
   "cell_type": "code",
   "execution_count": 2,
   "metadata": {},
   "outputs": [],
   "source": [
    "listOfPythonFiles = glob.glob('*ipynb')"
   ]
  },
  {
   "cell_type": "code",
   "execution_count": 3,
   "metadata": {},
   "outputs": [
    {
     "data": {
      "text/plain": [
       "['aslam1.ipynb',\n",
       " 'chardet.ipynb',\n",
       " 'Excelfile.ipynb',\n",
       " 'Fake_Data.ipynb',\n",
       " 'Final_Grade.ipynb',\n",
       " 'HTML_IN_XML.ipynb',\n",
       " 'loans_1_table_size.ipynb',\n",
       " 'loans_2_data_types.ipynb',\n",
       " 'loans_3_describe.ipynb',\n",
       " 'loans_4_data_type_conversion.ipynb',\n",
       " 'loans_5_unique_entries_per_column.ipynb',\n",
       " 'loans_empty_entries_1.ipynb',\n",
       " 'loans_empty_entries_2_visualize_sparseness.ipynb',\n",
       " 'Patients.ipynb',\n",
       " 'Project 2.ipynb',\n",
       " 'ProjectFinal.ipynb',\n",
       " 'shift_right.ipynb',\n",
       " 'time series data (1).ipynb',\n",
       " 'time series data.ipynb',\n",
       " 'Untitled.ipynb',\n",
       " 'Untitled1.ipynb',\n",
       " 'Untitled11.ipynb',\n",
       " 'visualization.ipynb',\n",
       " 'visualize_baseball.ipynb',\n",
       " 'Week10Assignment.ipynb',\n",
       " 'Week8_imputation (2).ipynb']"
      ]
     },
     "execution_count": 3,
     "metadata": {},
     "output_type": "execute_result"
    }
   ],
   "source": [
    "# printing the list of files \n",
    "listOfPythonFiles"
   ]
  },
  {
   "cell_type": "markdown",
   "metadata": {},
   "source": [
    "The below function is used to read the filename specified and the lines of each file is matched with a regular expression. \n",
    "The result is then filtered out for duplicates. \n",
    "The function returns a list of unique modules imported in a single file."
   ]
  },
  {
   "cell_type": "markdown",
   "metadata": {},
   "source": [
    "###### Regular Expression: \n",
    "\n",
    "from\\s+(\\w+)\\s+import is used to match expression like From math import pi. \\s and \\w are used to match whitespaces and words between from and import. \n",
    "\n",
    "(?<!from)import (\\w+) \n",
    "?<! : Matches if the current position in the string is not preceded by a match for 'from'\n",
    "\n",
    "| is used to match either of the above expressions."
   ]
  },
  {
   "cell_type": "code",
   "execution_count": 4,
   "metadata": {},
   "outputs": [],
   "source": [
    "# Input : Filename\n",
    "# output : List of modules imported\n",
    "# Lines variable stored the code of ipynb file in a string format. \n",
    "# result variable is a collection of matched variables.\n",
    "# Modules are checked for already existing values in list. If not present they are appended to a list.\n",
    "def readandfindmodules(filename):\n",
    "    importedModules = []\n",
    "    with open(filename, mode=\"r\") as f:\n",
    "        lines = f.read()\n",
    "        result = re.findall(r\"(?<!from)import (\\w+)|from\\s+(\\w+)\\s+import\", lines)\n",
    "        for value in result:\n",
    "            for module in value:\n",
    "                if len(module):\n",
    "                    if module not in importedModules:a\n",
    "                        importedModules.append(module)\n",
    "    return importedModules"
   ]
  },
  {
   "cell_type": "markdown",
   "metadata": {},
   "source": [
    "Set Function : https://www.geeksforgeeks.org/python-set-method/"
   ]
  },
  {
   "cell_type": "markdown",
   "metadata": {},
   "source": [
    "This loop is used to call the custom function readandfindmodules() for each file returned by glob. Since the function returns lists finalModuleList[] list is merged each time with the list returned by the function. Extened() is used to merge the returned list with existing list. "
   ]
  },
  {
   "cell_type": "code",
   "execution_count": 5,
   "metadata": {},
   "outputs": [],
   "source": [
    "# finalModuleList is merged with the lists of each file. \n",
    "# THe list is again checked for duplicate values by using set function()\n",
    "finalModuleList = []\n",
    "for filename in listOfPythonFiles:\n",
    "    finalModuleList.extend(readandfindmodules(filename))\n",
    "finalModuleList = list(set(finalModuleList))"
   ]
  },
  {
   "cell_type": "code",
   "execution_count": 6,
   "metadata": {},
   "outputs": [
    {
     "data": {
      "text/plain": [
       "['numpy',\n",
       " 'datetime',\n",
       " 'pi',\n",
       " 'is',\n",
       " 'xlwt',\n",
       " 'dataframe_to_rows',\n",
       " 'glob',\n",
       " 'six',\n",
       " 'sys',\n",
       " 'openpyxl',\n",
       " 'csv',\n",
       " 'register_matplotlib_converters',\n",
       " 're',\n",
       " 'random',\n",
       " 'lag_plot',\n",
       " 'seaborn',\n",
       " 'faker',\n",
       " 'string',\n",
       " 'plotly',\n",
       " 'and',\n",
       " 'pandas',\n",
       " 'time',\n",
       " 'zipfile',\n",
       " 'xlsxwriter',\n",
       " 'math',\n",
       " 'bs4',\n",
       " 'xml',\n",
       " 'or',\n",
       " 'chardet',\n",
       " 'missingno',\n",
       " 'matplotlib']"
      ]
     },
     "execution_count": 6,
     "metadata": {},
     "output_type": "execute_result"
    }
   ],
   "source": [
    "# Printing the final unique modules imported by the ipynb files\n",
    "finalModuleList"
   ]
  },
  {
   "cell_type": "code",
   "execution_count": null,
   "metadata": {},
   "outputs": [],
   "source": []
  }
 ],
 "metadata": {
  "kernelspec": {
   "display_name": "Python 3",
   "language": "python",
   "name": "python3"
  },
  "language_info": {
   "codemirror_mode": {
    "name": "ipython",
    "version": 3
   },
   "file_extension": ".py",
   "mimetype": "text/x-python",
   "name": "python",
   "nbconvert_exporter": "python",
   "pygments_lexer": "ipython3",
   "version": "3.7.4"
  }
 },
 "nbformat": 4,
 "nbformat_minor": 2
}
