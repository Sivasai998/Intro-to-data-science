{
 "cells": [
  {
   "cell_type": "code",
   "execution_count": 4,
   "metadata": {
    "scrolled": true
   },
   "outputs": [
    {
     "name": "stdout",
     "output_type": "stream",
     "text": [
      "no of rows = 36634\n",
      "no of columns =18\n",
      "   policyID statecode       county\n",
      "0    119736        FL  CLAY COUNTY\n",
      "1    448094        FL  CLAY COUNTY\n",
      "2    206893        FL  CLAY COUNTY\n",
      "3    333743        FL  CLAY COUNTY\n",
      "4    172534        FL  CLAY COUNTY\n",
      "5    785275        FL  CLAY COUNTY\n",
      "6    995932        FL  CLAY COUNTY\n",
      "7    223488        FL  CLAY COUNTY\n",
      "       policyID statecode           county\n",
      "36631    791209        FL  PINELLAS COUNTY\n",
      "36632    322627        FL  PINELLAS COUNTY\n",
      "36633    398149        FL  PINELLAS COUNTY\n",
      "                              0            1            2            3\n",
      "policyID                 119736       448094       206893       333743\n",
      "statecode                    FL           FL           FL           FL\n",
      "county              CLAY COUNTY  CLAY COUNTY  CLAY COUNTY  CLAY COUNTY\n",
      "eq_site_limit            498960  1.32238e+06       190724            0\n",
      "hu_site_limit            498960  1.32238e+06       190724      79520.8\n",
      "fl_site_limit            498960  1.32238e+06       190724            0\n",
      "fr_site_limit            498960  1.32238e+06       190724            0\n",
      "tiv_2011                 498960  1.32238e+06       190724      79520.8\n",
      "tiv_2012                 792149  1.43816e+06       192477      86854.5\n",
      "eq_site_deductible            0            0            0            0\n",
      "hu_site_deductible       9979.2            0            0            0\n",
      "fl_site_deductible            0            0            0            0\n",
      "fr_site_deductible            0            0            0            0\n",
      "point_latitude          30.1023      30.0639      30.0896      30.0632\n",
      "point_longitude        -81.7118     -81.7077     -81.7005     -81.7077\n",
      "line                Residential  Residential  Residential  Residential\n",
      "construction            Masonry      Masonry         Wood         Wood\n",
      "point_granularity             1            3            1            3\n"
     ]
    }
   ],
   "source": [
    "import pandas as pd#importing pandas\n",
    "\n",
    "\n",
    "data=pd.read_csv(\"FL_insurance_sample.csv\")#reading the csv file\n",
    "print(\"no of rows = {}\\nno of columns ={}\".format(len(data),len(data.columns)))\n",
    "\n",
    "\n",
    "data1=pd.read_csv(\"FL_insurance_sample.csv\",usecols=[\"policyID\",\"statecode\",\"county\"])#reading csv file and using the 3 columns\n",
    "print(data1.head(8))\n",
    "\n",
    "\n",
    "data2=pd.read_csv(\"FL_insurance_sample.csv\",usecols=[\"policyID\",\"statecode\",\"county\"])\n",
    "print(data2.tail(3))#printing the last 3 rows from the bottom\n",
    "\n",
    "\n",
    "\n",
    "data3=pd.read_csv(\"FL_insurance_sample.csv\").head(4)# reading the top 4 rows from csv file\n",
    "data4=data3.transpose() #transpose of data\n",
    "data3.at[0,'policyID']=119736\n",
    "print(data4)                                         https://support.spatialkey.com/spatialkey-sample-csv-data/"
   ]
  },
  {
   "cell_type": "code",
   "execution_count": null,
   "metadata": {},
   "outputs": [],
   "source": []
  }
 ],
 "metadata": {
  "kernelspec": {
   "display_name": "Python 3",
   "language": "python",
   "name": "python3"
  },
  "language_info": {
   "codemirror_mode": {
    "name": "ipython",
    "version": 3
   },
   "file_extension": ".py",
   "mimetype": "text/x-python",
   "name": "python",
   "nbconvert_exporter": "python",
   "pygments_lexer": "ipython3",
   "version": "3.7.4"
  }
 },
 "nbformat": 4,
 "nbformat_minor": 2
}
