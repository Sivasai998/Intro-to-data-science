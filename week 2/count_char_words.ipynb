{
 "cells": [
  {
   "cell_type": "code",
   "execution_count": 1,
   "metadata": {},
   "outputs": [
    {
     "name": "stdout",
     "output_type": "stream",
     "text": [
      "i am good boy\n",
      "[4, 10]\n"
     ]
    }
   ],
   "source": [
    "def count_char_words(input_string):#defining a function\n",
    "    count_char = 0\n",
    "    count_words=0\n",
    "    for i in input_string.split():#giving input \n",
    "        count_words += 1\n",
    "        for j in i:# calculating the characters in the given input string \n",
    "            count_char+=1\n",
    "\n",
    "    return [count_words,count_char]#returning words and characters\n",
    "\n",
    "\n",
    "if __name__==\"__main__\":\n",
    "    string=input().strip()\n",
    "\n",
    "    print(count_char_words(string))"
   ]
  },
  {
   "cell_type": "code",
   "execution_count": null,
   "metadata": {},
   "outputs": [],
   "source": []
  }
 ],
 "metadata": {
  "kernelspec": {
   "display_name": "Python 3",
   "language": "python",
   "name": "python3"
  },
  "language_info": {
   "codemirror_mode": {
    "name": "ipython",
    "version": 3
   },
   "file_extension": ".py",
   "mimetype": "text/x-python",
   "name": "python",
   "nbconvert_exporter": "python",
   "pygments_lexer": "ipython3",
   "version": "3.7.4"
  }
 },
 "nbformat": 4,
 "nbformat_minor": 2
}
