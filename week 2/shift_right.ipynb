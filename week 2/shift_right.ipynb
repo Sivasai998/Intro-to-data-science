{
 "cells": [
  {
   "cell_type": "code",
   "execution_count": 1,
   "metadata": {},
   "outputs": [
    {
     "name": "stdout",
     "output_type": "stream",
     "text": [
      "1 2 3 4 35\n",
      "[35, 1, 2, 3, 4]\n"
     ]
    }
   ],
   "source": [
    "#using string slicing and concatenation technique\n",
    "def Shift_right(input_List):\n",
    "    return [input_List[-1]] + input_List[:-1]\n",
    "\n",
    "\n",
    "if __name__==\"__main__\":\n",
    "    List= list(map(int,input().strip().split())) # converting input into list\n",
    "    print(Shift_right(List))"
   ]
  },
  {
   "cell_type": "code",
   "execution_count": null,
   "metadata": {},
   "outputs": [],
   "source": []
  }
 ],
 "metadata": {
  "kernelspec": {
   "display_name": "Python 3",
   "language": "python",
   "name": "python3"
  },
  "language_info": {
   "codemirror_mode": {
    "name": "ipython",
    "version": 3
   },
   "file_extension": ".py",
   "mimetype": "text/x-python",
   "name": "python",
   "nbconvert_exporter": "python",
   "pygments_lexer": "ipython3",
   "version": "3.7.4"
  }
 },
 "nbformat": 4,
 "nbformat_minor": 2
}
