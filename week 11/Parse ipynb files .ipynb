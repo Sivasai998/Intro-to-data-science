{
 "cells": [
  {
   "cell_type": "code",
   "execution_count": 1,
   "metadata": {},
   "outputs": [],
   "source": [
    "# Importing glob to get all ipynb files\n",
    "# Importing regular expressions to match the file lines with certain expressions.\n",
    "import glob\n",
    "import re"
   ]
  },
  {
   "cell_type": "markdown",
   "metadata": {},
   "source": [
    "Glob returns the list of file names by the type specified. Here it returns the list of file names of ipynb type and the list is tored in PythonFiles variable."
   ]
  },
  {
   "cell_type": "code",
   "execution_count": 2,
   "metadata": {},
   "outputs": [],
   "source": [
    "PythonFiles = glob.glob('*ipynb')"
   ]
  },
  {
   "cell_type": "code",
   "execution_count": 3,
   "metadata": {},
   "outputs": [
    {
     "data": {
      "text/plain": [
       "['aslam1.ipynb',\n",
       " 'chardet.ipynb',\n",
       " 'Excelfile.ipynb',\n",
       " 'Fake_Data.ipynb',\n",
       " 'Final_Grade.ipynb',\n",
       " 'HTML_IN_XML.ipynb',\n",
       " 'loans_1_table_size.ipynb',\n",
       " 'loans_2_data_types.ipynb',\n",
       " 'loans_3_describe.ipynb',\n",
       " 'loans_4_data_type_conversion.ipynb',\n",
       " 'loans_5_unique_entries_per_column.ipynb',\n",
       " 'loans_empty_entries_1.ipynb',\n",
       " 'loans_empty_entries_2_visualize_sparseness.ipynb',\n",
       " 'Parse ipynb files .ipynb',\n",
       " 'Patients.ipynb',\n",
       " 'Project 2 (1).ipynb',\n",
       " 'Project 2.ipynb',\n",
       " 'PROJECT2 Modified.ipynb',\n",
       " 'PROJECT2.ipynb',\n",
       " 'ProjectFinal.ipynb',\n",
       " 'Removing punctuation and stop words.ipynb',\n",
       " 'shift_right.ipynb',\n",
       " 'Stop_words_Week_9_Assignment.ipynb',\n",
       " 'time series data (1).ipynb',\n",
       " 'time series data.ipynb',\n",
       " 'Untitled.ipynb',\n",
       " 'Untitled1.ipynb',\n",
       " 'Untitled11.ipynb',\n",
       " 'visualization.ipynb',\n",
       " 'visualize_baseball.ipynb',\n",
       " 'week 9_Assaignment.ipynb',\n",
       " 'Week10Assignment.ipynb',\n",
       " 'Week8_imputation (2).ipynb']"
      ]
     },
     "execution_count": 3,
     "metadata": {},
     "output_type": "execute_result"
    }
   ],
   "source": [
    "# printing the list of files \n",
    "PythonFiles"
   ]
  },
  {
   "cell_type": "markdown",
   "metadata": {},
   "source": [
    "The below function is used to read the filename specified and the lines of each file is matched with a regular expression. \n",
    "The result is then filtered out for duplicates. \n",
    "The function returns a list of unique modules imported in a single file."
   ]
  },
  {
   "cell_type": "markdown",
   "metadata": {},
   "source": [
    "###### Regular Expression: \n",
    "\n",
    "from\\s+(\\w+)\\s+import is used to match expression like From math import pi. \\s and \\w are used to match whitespaces and words between from and import. \n",
    "\n",
    "(?<!from)import (\\w+) \n",
    "?<! : Matches if the current position in the string is not preceded by a match for 'from'\n",
    "\n",
    "| is used to match either of the above expressions."
   ]
  },
  {
   "cell_type": "code",
   "execution_count": 4,
   "metadata": {},
   "outputs": [
    {
     "ename": "IndentationError",
     "evalue": "unexpected indent (<ipython-input-4-b33bdec48c0b>, line 11)",
     "output_type": "error",
     "traceback": [
      "\u001b[1;36m  File \u001b[1;32m\"<ipython-input-4-b33bdec48c0b>\"\u001b[1;36m, line \u001b[1;32m11\u001b[0m\n\u001b[1;33m    for module in result:\u001b[0m\n\u001b[1;37m    ^\u001b[0m\n\u001b[1;31mIndentationError\u001b[0m\u001b[1;31m:\u001b[0m unexpected indent\n"
     ]
    }
   ],
   "source": [
    "# Input : Filename\n",
    "# output : List of modules imported\n",
    "# Lines variable stored the code of ipynb file in a string format. \n",
    "# result variable is a collection of matched variables.\n",
    "# Modules are checked for already existing values in list. If not present they are appended to a list.\n",
    "def readandfindmodules(filename):\n",
    "    importedModules = []\n",
    "    with open(filename, mode=\"r\",errors='ignore') as d:\n",
    "        lines = d.read()\n",
    "        result = re.findall(r\"(?<!from)import (\\w+)|from\\s+(\\w+)\\s+import\", lines)\n",
    "            for module in result:\n",
    "                if len(module):\n",
    "                    if module not in importedModules:\n",
    "                        importedModules.append(module)\n",
    "    return importedModules"
   ]
  },
  {
   "cell_type": "markdown",
   "metadata": {},
   "source": [
    "This loop is used to call the custom function readandfindmodules() for each file returned by glob. Since the function returns lists finalModuleList[] list is merged each time with the list returned by the function. Extend() is used to merge the returned list with existing list. "
   ]
  },
  {
   "cell_type": "code",
   "execution_count": 5,
   "metadata": {},
   "outputs": [],
   "source": [
    "# finalModuleList is merged with the lists of each file. \n",
    "# THe list is again checked for duplicate values by using set function()\n",
    "finalModuleList = []\n",
    "for filename in PythonFiles:\n",
    "    finalModuleList.extend(readandfindmodules(filename))\n",
    "finalModuleList = list(set(finalModuleList))"
   ]
  },
  {
   "cell_type": "code",
   "execution_count": 7,
   "metadata": {},
   "outputs": [
    {
     "data": {
      "text/plain": [
       "['os',\n",
       " 'string',\n",
       " 'plotly',\n",
       " 'bs4',\n",
       " 'datetime',\n",
       " 'dataframe_to_rows',\n",
       " 'xlsxwriter',\n",
       " 'pi',\n",
       " 'missingno',\n",
       " 'six',\n",
       " 'register_matplotlib_converters',\n",
       " 'matplotlib',\n",
       " 'and',\n",
       " 'seaborn',\n",
       " 'pandas',\n",
       " 'math',\n",
       " 'csv',\n",
       " 'xlwt',\n",
       " 'fnmatch',\n",
       " 'glob',\n",
       " 're',\n",
       " 'word_tokenize',\n",
       " 'random',\n",
       " 'sys',\n",
       " 'stopwords',\n",
       " 'docx',\n",
       " 'or',\n",
       " 'zipfile',\n",
       " 'scripts',\n",
       " 'xml',\n",
       " 'openpyxl',\n",
       " 'lag_plot',\n",
       " 'nltk',\n",
       " 'is',\n",
       " 'sent_tokenize',\n",
       " 'numpy',\n",
       " 'faker',\n",
       " 'time',\n",
       " 'chardet']"
      ]
     },
     "execution_count": 7,
     "metadata": {},
     "output_type": "execute_result"
    }
   ],
   "source": [
    "# Printing the final unique modules imported by the ipynb files\n",
    "finalModuleList"
   ]
  },
  {
   "cell_type": "code",
   "execution_count": null,
   "metadata": {},
   "outputs": [],
   "source": []
  },
  {
   "cell_type": "code",
   "execution_count": null,
   "metadata": {},
   "outputs": [],
   "source": []
  }
 ],
 "metadata": {
  "kernelspec": {
   "display_name": "Python 3",
   "language": "python",
   "name": "python3"
  },
  "language_info": {
   "codemirror_mode": {
    "name": "ipython",
    "version": 3
   },
   "file_extension": ".py",
   "mimetype": "text/x-python",
   "name": "python",
   "nbconvert_exporter": "python",
   "pygments_lexer": "ipython3",
   "version": "3.7.4"
  }
 },
 "nbformat": 4,
 "nbformat_minor": 2
}
